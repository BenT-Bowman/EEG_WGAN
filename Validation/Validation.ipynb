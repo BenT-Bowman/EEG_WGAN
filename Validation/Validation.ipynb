{
 "cells": [
  {
   "cell_type": "markdown",
   "metadata": {},
   "source": [
    "# Validation of Generated_Data"
   ]
  },
  {
   "cell_type": "markdown",
   "metadata": {},
   "source": [
    "### Targets and Values"
   ]
  },
  {
   "cell_type": "code",
   "execution_count": 1,
   "metadata": {},
   "outputs": [],
   "source": [
    "import os"
   ]
  },
  {
   "cell_type": "code",
   "execution_count": 2,
   "metadata": {},
   "outputs": [],
   "source": [
    "num_samples_to_generate=200\n",
    "# Target = \"Normal\"\n",
    "output_dirs = [(r'Generated\\gen_normal.npy', r'Real\\normal.npy',), (r'Generated\\gen_patient.npy',r'Real\\patient.npy')]\n",
    "base_path = r'..\\Dataset'\n"
   ]
  },
  {
   "cell_type": "markdown",
   "metadata": {},
   "source": [
    "### Utility Function"
   ]
  },
  {
   "cell_type": "code",
   "execution_count": 3,
   "metadata": {},
   "outputs": [],
   "source": [
    "signal_length = 500"
   ]
  },
  {
   "cell_type": "code",
   "execution_count": 4,
   "metadata": {},
   "outputs": [
    {
     "name": "stdout",
     "output_type": "stream",
     "text": [
      "('Generated\\\\gen_normal.npy', 'Real\\\\normal.npy')\n",
      "('Generated\\\\gen_patient.npy', 'Real\\\\patient.npy')\n"
     ]
    }
   ],
   "source": [
    "for output_dir in output_dirs:\n",
    "    print(output_dir)"
   ]
  },
  {
   "cell_type": "code",
   "execution_count": 5,
   "metadata": {},
   "outputs": [],
   "source": [
    "import numpy as np\n",
    "from tqdm import tqdm\n",
    "import os\n",
    "\n",
    "def calc_avg(func):\n",
    "    global base_path\n",
    "    global signal_length\n",
    "    for output_dir in output_dirs:\n",
    "        \n",
    "        data1 = np.load(os.path.join(base_path, output_dir[1]))\n",
    "        data2 = np.load(os.path.join(base_path, output_dir[0]))\n",
    "\n",
    "\n",
    "        real_to_gen = []\n",
    "        gen_to_rand = []\n",
    "        real_to_rand = []\n",
    "        for eeg_signal1 in tqdm(data1):\n",
    "            for eeg_signal2 in data2:\n",
    "                eeg_rand = 2 * np.random.rand(19, signal_length) - 1\n",
    "                real_to_gen.append(func(eeg_signal2,eeg_signal1))\n",
    "                gen_to_rand.append(func(eeg_rand,eeg_signal1))\n",
    "                real_to_rand.append(func(eeg_signal2,eeg_rand))\n",
    "\n",
    "        print(f\"{'='*20}{output_dir}{'='*20}\")\n",
    "        real_to_gen = sum(real_to_gen)/len(real_to_gen)\n",
    "        gen_to_rand = sum(gen_to_rand)/len(gen_to_rand)\n",
    "        real_to_rand = sum(real_to_rand)/len(real_to_rand)\n",
    "        print(f\"\\t{f'{output_dir[1]} to {output_dir[0]}:':<50} \\t {real_to_gen: >25.15f}\")\n",
    "        print(f\"\\t{f'{output_dir[0]} to Random:':<50} \\t {gen_to_rand: >25.15f}\")\n",
    "        print(f\"\\t{f'{output_dir[1]}' ' to Random:':<50} \\t {real_to_rand: >25.15f}\")"
   ]
  },
  {
   "cell_type": "markdown",
   "metadata": {},
   "source": [
    "### Euclidian Distance"
   ]
  },
  {
   "cell_type": "code",
   "execution_count": 6,
   "metadata": {},
   "outputs": [
    {
     "name": "stderr",
     "output_type": "stream",
     "text": [
      "  0%|          | 38/7825 [00:04<15:50,  8.20it/s]\n"
     ]
    },
    {
     "ename": "KeyboardInterrupt",
     "evalue": "",
     "output_type": "error",
     "traceback": [
      "\u001b[1;31m---------------------------------------------------------------------------\u001b[0m",
      "\u001b[1;31mKeyboardInterrupt\u001b[0m                         Traceback (most recent call last)",
      "Cell \u001b[1;32mIn[6], line 10\u001b[0m\n\u001b[0;32m      7\u001b[0m     signal2_flat \u001b[38;5;241m=\u001b[39m signal2\u001b[38;5;241m.\u001b[39mflatten()\n\u001b[0;32m      8\u001b[0m     \u001b[38;5;28;01mreturn\u001b[39;00m np\u001b[38;5;241m.\u001b[39mlinalg\u001b[38;5;241m.\u001b[39mnorm(signal1_flat \u001b[38;5;241m-\u001b[39m signal2_flat)\n\u001b[1;32m---> 10\u001b[0m \u001b[43mcalc_avg\u001b[49m\u001b[43m(\u001b[49m\u001b[43meuc_dis\u001b[49m\u001b[43m)\u001b[49m\n",
      "Cell \u001b[1;32mIn[5], line 22\u001b[0m, in \u001b[0;36mcalc_avg\u001b[1;34m(func)\u001b[0m\n\u001b[0;32m     20\u001b[0m         real_to_gen\u001b[38;5;241m.\u001b[39mappend(func(eeg_signal2,eeg_signal1))\n\u001b[0;32m     21\u001b[0m         gen_to_rand\u001b[38;5;241m.\u001b[39mappend(func(eeg_rand,eeg_signal1))\n\u001b[1;32m---> 22\u001b[0m         real_to_rand\u001b[38;5;241m.\u001b[39mappend(\u001b[43mfunc\u001b[49m\u001b[43m(\u001b[49m\u001b[43meeg_signal2\u001b[49m\u001b[43m,\u001b[49m\u001b[43meeg_rand\u001b[49m\u001b[43m)\u001b[49m)\n\u001b[0;32m     24\u001b[0m \u001b[38;5;28mprint\u001b[39m(\u001b[38;5;124mf\u001b[39m\u001b[38;5;124m\"\u001b[39m\u001b[38;5;132;01m{\u001b[39;00m\u001b[38;5;124m'\u001b[39m\u001b[38;5;124m=\u001b[39m\u001b[38;5;124m'\u001b[39m\u001b[38;5;241m*\u001b[39m\u001b[38;5;241m20\u001b[39m\u001b[38;5;132;01m}\u001b[39;00m\u001b[38;5;132;01m{\u001b[39;00moutput_dir\u001b[38;5;132;01m}\u001b[39;00m\u001b[38;5;132;01m{\u001b[39;00m\u001b[38;5;124m'\u001b[39m\u001b[38;5;124m=\u001b[39m\u001b[38;5;124m'\u001b[39m\u001b[38;5;241m*\u001b[39m\u001b[38;5;241m20\u001b[39m\u001b[38;5;132;01m}\u001b[39;00m\u001b[38;5;124m\"\u001b[39m)\n\u001b[0;32m     25\u001b[0m real_to_gen \u001b[38;5;241m=\u001b[39m \u001b[38;5;28msum\u001b[39m(real_to_gen)\u001b[38;5;241m/\u001b[39m\u001b[38;5;28mlen\u001b[39m(real_to_gen)\n",
      "Cell \u001b[1;32mIn[6], line 8\u001b[0m, in \u001b[0;36meuc_dis\u001b[1;34m(signal1, signal2)\u001b[0m\n\u001b[0;32m      6\u001b[0m signal1_flat \u001b[38;5;241m=\u001b[39m signal1\u001b[38;5;241m.\u001b[39mflatten()\n\u001b[0;32m      7\u001b[0m signal2_flat \u001b[38;5;241m=\u001b[39m signal2\u001b[38;5;241m.\u001b[39mflatten()\n\u001b[1;32m----> 8\u001b[0m \u001b[38;5;28;01mreturn\u001b[39;00m \u001b[43mnp\u001b[49m\u001b[38;5;241;43m.\u001b[39;49m\u001b[43mlinalg\u001b[49m\u001b[38;5;241;43m.\u001b[39;49m\u001b[43mnorm\u001b[49m\u001b[43m(\u001b[49m\u001b[43msignal1_flat\u001b[49m\u001b[43m \u001b[49m\u001b[38;5;241;43m-\u001b[39;49m\u001b[43m \u001b[49m\u001b[43msignal2_flat\u001b[49m\u001b[43m)\u001b[49m\n",
      "File \u001b[1;32mc:\\Users\\wolve\\AppData\\Local\\Programs\\Python\\Python311\\Lib\\site-packages\\numpy\\linalg\\linalg.py:2379\u001b[0m, in \u001b[0;36m_norm_dispatcher\u001b[1;34m(x, ord, axis, keepdims)\u001b[0m\n\u001b[0;32m   2375\u001b[0m     result \u001b[38;5;241m=\u001b[39m op(svd(y, compute_uv\u001b[38;5;241m=\u001b[39m\u001b[38;5;28;01mFalse\u001b[39;00m), axis\u001b[38;5;241m=\u001b[39m\u001b[38;5;241m-\u001b[39m\u001b[38;5;241m1\u001b[39m)\n\u001b[0;32m   2376\u001b[0m     \u001b[38;5;28;01mreturn\u001b[39;00m result\n\u001b[1;32m-> 2379\u001b[0m \u001b[38;5;28;01mdef\u001b[39;00m \u001b[38;5;21m_norm_dispatcher\u001b[39m(x, \u001b[38;5;28mord\u001b[39m\u001b[38;5;241m=\u001b[39m\u001b[38;5;28;01mNone\u001b[39;00m, axis\u001b[38;5;241m=\u001b[39m\u001b[38;5;28;01mNone\u001b[39;00m, keepdims\u001b[38;5;241m=\u001b[39m\u001b[38;5;28;01mNone\u001b[39;00m):\n\u001b[0;32m   2380\u001b[0m     \u001b[38;5;28;01mreturn\u001b[39;00m (x,)\n\u001b[0;32m   2383\u001b[0m \u001b[38;5;129m@array_function_dispatch\u001b[39m(_norm_dispatcher)\n\u001b[0;32m   2384\u001b[0m \u001b[38;5;28;01mdef\u001b[39;00m \u001b[38;5;21mnorm\u001b[39m(x, \u001b[38;5;28mord\u001b[39m\u001b[38;5;241m=\u001b[39m\u001b[38;5;28;01mNone\u001b[39;00m, axis\u001b[38;5;241m=\u001b[39m\u001b[38;5;28;01mNone\u001b[39;00m, keepdims\u001b[38;5;241m=\u001b[39m\u001b[38;5;28;01mFalse\u001b[39;00m):\n",
      "\u001b[1;31mKeyboardInterrupt\u001b[0m: "
     ]
    }
   ],
   "source": [
    "import numpy as np\n",
    "from random import randint \n",
    "import os\n",
    "\n",
    "def euc_dis(signal1, signal2):\n",
    "    signal1_flat = signal1.flatten()\n",
    "    signal2_flat = signal2.flatten()\n",
    "    return np.linalg.norm(signal1_flat - signal2_flat)\n",
    "\n",
    "calc_avg(euc_dis)"
   ]
  },
  {
   "cell_type": "markdown",
   "metadata": {},
   "source": [
    "### Cosine Similarity"
   ]
  },
  {
   "cell_type": "code",
   "execution_count": null,
   "metadata": {},
   "outputs": [
    {
     "name": "stderr",
     "output_type": "stream",
     "text": [
      "100%|██████████| 3955/3955 [08:50<00:00,  7.46it/s]\n"
     ]
    },
    {
     "name": "stdout",
     "output_type": "stream",
     "text": [
      "====================('generated_Patient.npy', 'patient.npy')====================\n",
      "\tpatient.npy to generated_Patient.npy:              \t         0.010334517153215\n",
      "\tgenerated_Patient.npy to Random:                   \t         0.000000025575969\n",
      "\tpatient.npy to Random:                             \t        -0.000002330485640\n"
     ]
    }
   ],
   "source": [
    "from scipy.spatial.distance import cosine\n",
    "import numpy as np\n",
    "\n",
    "def cosine_sim(signal1, signal2):\n",
    "    signal1_flat = signal1.flatten()\n",
    "    signal2_flat = signal2.flatten()\n",
    "\n",
    "    # Calculate cosine distance\n",
    "    cosine_distance = cosine(signal1_flat, signal2_flat)\n",
    "\n",
    "    # Convert cosine distance to cosine similarity\n",
    "    return 1 - cosine_distance\n",
    "calc_avg(cosine_sim)\n"
   ]
  },
  {
   "cell_type": "markdown",
   "metadata": {},
   "source": [
    "### Pearson Correlation Coefficient"
   ]
  },
  {
   "cell_type": "code",
   "execution_count": null,
   "metadata": {},
   "outputs": [
    {
     "name": "stderr",
     "output_type": "stream",
     "text": [
      "  0%|          | 7/3955 [00:18<2:49:17,  2.57s/it]\n"
     ]
    },
    {
     "ename": "KeyboardInterrupt",
     "evalue": "",
     "output_type": "error",
     "traceback": [
      "\u001b[1;31m---------------------------------------------------------------------------\u001b[0m",
      "\u001b[1;31mKeyboardInterrupt\u001b[0m                         Traceback (most recent call last)",
      "Cell \u001b[1;32mIn[8], line 12\u001b[0m\n\u001b[0;32m      9\u001b[0m     pearson_corr, p_value \u001b[38;5;241m=\u001b[39m pearsonr(signal1_flat, signal2_flat)\n\u001b[0;32m     10\u001b[0m     \u001b[38;5;28;01mreturn\u001b[39;00m pearson_corr\n\u001b[1;32m---> 12\u001b[0m \u001b[43mcalc_avg\u001b[49m\u001b[43m(\u001b[49m\u001b[43mpearson_coef\u001b[49m\u001b[43m)\u001b[49m\n",
      "Cell \u001b[1;32mIn[5], line 23\u001b[0m, in \u001b[0;36mcalc_avg\u001b[1;34m(func)\u001b[0m\n\u001b[0;32m     21\u001b[0m         real_to_gen\u001b[38;5;241m.\u001b[39mappend(func(eeg_signal2,eeg_signal1))\n\u001b[0;32m     22\u001b[0m         gen_to_rand\u001b[38;5;241m.\u001b[39mappend(func(eeg_rand,eeg_signal1))\n\u001b[1;32m---> 23\u001b[0m         real_to_rand\u001b[38;5;241m.\u001b[39mappend(\u001b[43mfunc\u001b[49m\u001b[43m(\u001b[49m\u001b[43meeg_signal2\u001b[49m\u001b[43m,\u001b[49m\u001b[43meeg_rand\u001b[49m\u001b[43m)\u001b[49m)\n\u001b[0;32m     25\u001b[0m \u001b[38;5;28mprint\u001b[39m(\u001b[38;5;124mf\u001b[39m\u001b[38;5;124m\"\u001b[39m\u001b[38;5;132;01m{\u001b[39;00m\u001b[38;5;124m'\u001b[39m\u001b[38;5;124m=\u001b[39m\u001b[38;5;124m'\u001b[39m\u001b[38;5;241m*\u001b[39m\u001b[38;5;241m20\u001b[39m\u001b[38;5;132;01m}\u001b[39;00m\u001b[38;5;132;01m{\u001b[39;00moutput_dir\u001b[38;5;132;01m}\u001b[39;00m\u001b[38;5;132;01m{\u001b[39;00m\u001b[38;5;124m'\u001b[39m\u001b[38;5;124m=\u001b[39m\u001b[38;5;124m'\u001b[39m\u001b[38;5;241m*\u001b[39m\u001b[38;5;241m20\u001b[39m\u001b[38;5;132;01m}\u001b[39;00m\u001b[38;5;124m\"\u001b[39m)\n\u001b[0;32m     26\u001b[0m real_to_gen \u001b[38;5;241m=\u001b[39m \u001b[38;5;28msum\u001b[39m(real_to_gen)\u001b[38;5;241m/\u001b[39m\u001b[38;5;28mlen\u001b[39m(real_to_gen)\n",
      "Cell \u001b[1;32mIn[8], line 6\u001b[0m, in \u001b[0;36mpearson_coef\u001b[1;34m(signal1, signal2)\u001b[0m\n\u001b[0;32m      4\u001b[0m \u001b[38;5;28;01mdef\u001b[39;00m \u001b[38;5;21mpearson_coef\u001b[39m(signal1, signal2):\n\u001b[0;32m      5\u001b[0m     signal1_flat \u001b[38;5;241m=\u001b[39m signal1\u001b[38;5;241m.\u001b[39mflatten()\n\u001b[1;32m----> 6\u001b[0m     signal2_flat \u001b[38;5;241m=\u001b[39m signal2\u001b[38;5;241m.\u001b[39mflatten()\n\u001b[0;32m      8\u001b[0m     \u001b[38;5;66;03m# Calculate Pearson correlation coefficient using scipy\u001b[39;00m\n\u001b[0;32m      9\u001b[0m     pearson_corr, p_value \u001b[38;5;241m=\u001b[39m pearsonr(signal1_flat, signal2_flat)\n",
      "\u001b[1;31mKeyboardInterrupt\u001b[0m: "
     ]
    }
   ],
   "source": [
    "from scipy.stats import pearsonr\n",
    "import numpy as np\n",
    "\n",
    "def pearson_coef(signal1, signal2):\n",
    "    signal1_flat = signal1.flatten()\n",
    "    signal2_flat = signal2.flatten()\n",
    "\n",
    "    # Calculate Pearson correlation coefficient using scipy\n",
    "    pearson_corr, p_value = pearsonr(signal1_flat, signal2_flat)\n",
    "    return pearson_corr\n",
    "\n",
    "calc_avg(pearson_coef)\n",
    "\n",
    "\n"
   ]
  }
 ],
 "metadata": {
  "kernelspec": {
   "display_name": "Python 3",
   "language": "python",
   "name": "python3"
  },
  "language_info": {
   "codemirror_mode": {
    "name": "ipython",
    "version": 3
   },
   "file_extension": ".py",
   "mimetype": "text/x-python",
   "name": "python",
   "nbconvert_exporter": "python",
   "pygments_lexer": "ipython3",
   "version": "3.11.9"
  }
 },
 "nbformat": 4,
 "nbformat_minor": 2
}
