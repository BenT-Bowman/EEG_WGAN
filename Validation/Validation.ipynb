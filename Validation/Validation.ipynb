{
 "cells": [
  {
   "cell_type": "markdown",
   "metadata": {},
   "source": [
    "# Validation of Generated_Data"
   ]
  },
  {
   "cell_type": "markdown",
   "metadata": {},
   "source": [
    "### Targets and Values"
   ]
  },
  {
   "cell_type": "code",
   "execution_count": 1,
   "metadata": {},
   "outputs": [],
   "source": [
    "import os"
   ]
  },
  {
   "cell_type": "code",
   "execution_count": 2,
   "metadata": {},
   "outputs": [],
   "source": [
    "num_samples_to_generate=200\n",
    "# Target = \"Normal\"\n",
    "output_dirs = [(r'Generated\\patient.npy', r'Real\\patient_cls.npy',)]\n",
    "base_path = r'..\\Dataset'\n"
   ]
  },
  {
   "cell_type": "markdown",
   "metadata": {},
   "source": [
    "### Utility Function"
   ]
  },
  {
   "cell_type": "code",
   "execution_count": 3,
   "metadata": {},
   "outputs": [],
   "source": [
    "signal_length = 500"
   ]
  },
  {
   "cell_type": "code",
   "execution_count": 4,
   "metadata": {},
   "outputs": [
    {
     "name": "stdout",
     "output_type": "stream",
     "text": [
      "('Real\\\\normal_cls.npy', 'Real\\\\patient_cls.npy')\n"
     ]
    }
   ],
   "source": [
    "for output_dir in output_dirs:\n",
    "    print(output_dir)"
   ]
  },
  {
   "cell_type": "code",
   "execution_count": 5,
   "metadata": {},
   "outputs": [],
   "source": [
    "import numpy as np\n",
    "from tqdm import tqdm\n",
    "import os\n",
    "\n",
    "def calc_avg(func):\n",
    "    global base_path\n",
    "    global signal_length\n",
    "    for output_dir in output_dirs:\n",
    "        \n",
    "        data1 = np.load(os.path.join(base_path, output_dir[1]))\n",
    "        data2 = np.load(os.path.join(base_path, output_dir[0]))\n",
    "\n",
    "\n",
    "        real_to_gen = []\n",
    "        gen_to_rand = []\n",
    "        real_to_rand = []\n",
    "        max_rep = 500\n",
    "        current = 0\n",
    "        for eeg_signal1 in tqdm(data1):\n",
    "            current+=1\n",
    "            if current > max_rep:\n",
    "                break\n",
    "            for eeg_signal2 in data2:\n",
    "                eeg_rand = 2 * np.random.rand(19, signal_length) - 1\n",
    "                real_to_gen.append(func(eeg_signal2,eeg_signal1))\n",
    "                gen_to_rand.append(func(eeg_rand,eeg_signal1))\n",
    "                real_to_rand.append(func(eeg_signal2,eeg_rand))\n",
    "\n",
    "        print(f\"{'='*20}{output_dir}{'='*20}\")\n",
    "        real_to_gen = sum(real_to_gen)/len(real_to_gen)\n",
    "        gen_to_rand = sum(gen_to_rand)/len(gen_to_rand)\n",
    "        real_to_rand = sum(real_to_rand)/len(real_to_rand)\n",
    "        print(f\"\\t{f'{output_dir[1]} to {output_dir[0]}:':<50} \\t {real_to_gen: >25.15f}\")\n",
    "        print(f\"\\t{f'{output_dir[0]} to Random:':<50} \\t {gen_to_rand: >25.15f}\")\n",
    "        print(f\"\\t{f'{output_dir[1]}' ' to Random:':<50} \\t {real_to_rand: >25.15f}\")"
   ]
  },
  {
   "cell_type": "markdown",
   "metadata": {},
   "source": [
    "### Euclidian Distance"
   ]
  },
  {
   "cell_type": "code",
   "execution_count": 6,
   "metadata": {},
   "outputs": [
    {
     "name": "stderr",
     "output_type": "stream",
     "text": [
      "100%|██████████| 100/100 [00:00<00:00, 182.66it/s]"
     ]
    },
    {
     "name": "stdout",
     "output_type": "stream",
     "text": [
      "====================('Real\\\\normal_cls.npy', 'Real\\\\patient_cls.npy')====================\n",
      "\tReal\\patient_cls.npy to Real\\normal_cls.npy:       \t        18.607836638119878\n",
      "\tReal\\normal_cls.npy to Random:                     \t        58.018205966878512\n",
      "\tReal\\patient_cls.npy to Random:                    \t        57.546436395227715\n"
     ]
    },
    {
     "name": "stderr",
     "output_type": "stream",
     "text": [
      "\n"
     ]
    }
   ],
   "source": [
    "import numpy as np\n",
    "from random import randint \n",
    "import os\n",
    "\n",
    "def euc_dis(signal1, signal2):\n",
    "    signal1_flat = signal1.flatten()\n",
    "    signal2_flat = signal2.flatten()\n",
    "    return np.linalg.norm(signal1_flat - signal2_flat)\n",
    "\n",
    "calc_avg(euc_dis)"
   ]
  },
  {
   "cell_type": "markdown",
   "metadata": {},
   "source": [
    "### Cosine Similarity"
   ]
  },
  {
   "cell_type": "code",
   "execution_count": 7,
   "metadata": {},
   "outputs": [
    {
     "name": "stderr",
     "output_type": "stream",
     "text": [
      "100%|██████████| 100/100 [00:00<00:00, 160.27it/s]"
     ]
    },
    {
     "name": "stdout",
     "output_type": "stream",
     "text": [
      "====================('Real\\\\normal_cls.npy', 'Real\\\\patient_cls.npy')====================\n",
      "\tReal\\patient_cls.npy to Real\\normal_cls.npy:       \t        -0.043784943303589\n",
      "\tReal\\normal_cls.npy to Random:                     \t        -0.000081443452530\n",
      "\tReal\\patient_cls.npy to Random:                    \t         0.000093124807360\n"
     ]
    },
    {
     "name": "stderr",
     "output_type": "stream",
     "text": [
      "\n"
     ]
    }
   ],
   "source": [
    "from scipy.spatial.distance import cosine\n",
    "import numpy as np\n",
    "\n",
    "def cosine_sim(signal1, signal2):\n",
    "    signal1_flat = signal1.flatten()\n",
    "    signal2_flat = signal2.flatten()\n",
    "\n",
    "    # Calculate cosine distance\n",
    "    cosine_distance = cosine(signal1_flat, signal2_flat)\n",
    "\n",
    "    # Convert cosine distance to cosine similarity\n",
    "    return 1 - cosine_distance\n",
    "calc_avg(cosine_sim)\n"
   ]
  },
  {
   "cell_type": "markdown",
   "metadata": {},
   "source": [
    "### Pearson Correlation Coefficient"
   ]
  },
  {
   "cell_type": "code",
   "execution_count": 8,
   "metadata": {},
   "outputs": [
    {
     "name": "stderr",
     "output_type": "stream",
     "text": [
      "100%|██████████| 100/100 [00:11<00:00,  8.84it/s]"
     ]
    },
    {
     "name": "stdout",
     "output_type": "stream",
     "text": [
      "====================('Real\\\\normal_cls.npy', 'Real\\\\patient_cls.npy')====================\n",
      "\tReal\\patient_cls.npy to Real\\normal_cls.npy:       \t        -0.000490276894657\n",
      "\tReal\\normal_cls.npy to Random:                     \t         0.000080723999202\n",
      "\tReal\\patient_cls.npy to Random:                    \t         0.000052029952183\n"
     ]
    },
    {
     "name": "stderr",
     "output_type": "stream",
     "text": [
      "\n"
     ]
    }
   ],
   "source": [
    "from scipy.stats import pearsonr\n",
    "import numpy as np\n",
    "\n",
    "def pearson_coef(signal1, signal2):\n",
    "    signal1_flat = signal1.flatten()\n",
    "    signal2_flat = signal2.flatten()\n",
    "\n",
    "    # Calculate Pearson correlation coefficient using scipy\n",
    "    pearson_corr, p_value = pearsonr(signal1_flat, signal2_flat)\n",
    "    return pearson_corr\n",
    "\n",
    "calc_avg(pearson_coef)\n",
    "\n",
    "\n"
   ]
  }
 ],
 "metadata": {
  "kernelspec": {
   "display_name": "Python 3",
   "language": "python",
   "name": "python3"
  },
  "language_info": {
   "codemirror_mode": {
    "name": "ipython",
    "version": 3
   },
   "file_extension": ".py",
   "mimetype": "text/x-python",
   "name": "python",
   "nbconvert_exporter": "python",
   "pygments_lexer": "ipython3",
   "version": "3.11.9"
  }
 },
 "nbformat": 4,
 "nbformat_minor": 2
}
